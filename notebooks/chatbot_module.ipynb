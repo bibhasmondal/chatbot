{
 "cells": [
  {
   "cell_type": "code",
   "execution_count": 1,
   "metadata": {},
   "outputs": [],
   "source": [
    "import sys,os\n",
    "sys.path.append('..')\n",
    "from src.tools.utils import Handler\n",
    "from src.data.dataset import TrainDataset\n",
    "from src.data.dataloader import DataLoader"
   ]
  },
  {
   "cell_type": "code",
   "execution_count": 2,
   "metadata": {},
   "outputs": [
    {
     "name": "stdout",
     "output_type": "stream",
     "text": [
      "Reading lines...\n",
      "Read 141382 sentence pairs\n",
      "Trimmed to 112392 sentence pairs\n",
      "Counting words...\n",
      "Counted words:\n",
      "eng 10834\n",
      "fra 18146\n"
     ]
    }
   ],
   "source": [
    "train_dataset = TrainDataset('eng', 'fra')\n",
    "dataloader = DataLoader(train_dataset=train_dataset,batch_size=500)"
   ]
  },
  {
   "cell_type": "code",
   "execution_count": 3,
   "metadata": {},
   "outputs": [],
   "source": [
    "input_voc_size = train_dataset.input_voc.n_words\n",
    "output_voc_size = train_dataset.output_voc.n_words\n",
    "handler = Handler(input_voc_size, output_voc_size, embed_size = 64,hidden_size = 64,learning_rate = 0.01, step_size=5, gamma=0.1)"
   ]
  },
  {
   "cell_type": "code",
   "execution_count": null,
   "metadata": {},
   "outputs": [
    {
     "name": "stdout",
     "output_type": "stream",
     "text": [
      "Epoch 1\n",
      "Percent: [██████████----------------------------------------] 20.58% "
     ]
    }
   ],
   "source": [
    "handler.train(dataloader.train_loader,1)"
   ]
  },
  {
   "cell_type": "code",
   "execution_count": null,
   "metadata": {},
   "outputs": [],
   "source": [
    "handler.validate(dataloader.validation_loader)"
   ]
  },
  {
   "cell_type": "code",
   "execution_count": null,
   "metadata": {},
   "outputs": [],
   "source": []
  }
 ],
 "metadata": {
  "kernelspec": {
   "display_name": "Python 3",
   "language": "python",
   "name": "python3"
  },
  "language_info": {
   "codemirror_mode": {
    "name": "ipython",
    "version": 3
   },
   "file_extension": ".py",
   "mimetype": "text/x-python",
   "name": "python",
   "nbconvert_exporter": "python",
   "pygments_lexer": "ipython3",
   "version": "3.7.1"
  }
 },
 "nbformat": 4,
 "nbformat_minor": 2
}
